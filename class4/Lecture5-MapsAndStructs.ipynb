{
 "cells": [
  {
   "cell_type": "markdown",
   "metadata": {},
   "source": []
  },
  {
   "cell_type": "code",
   "execution_count": null,
   "metadata": {},
   "outputs": [],
   "source": [
    "# Align the code\n",
    "# put trailing comma\n",
    "\n",
    "my_map = %{\n",
    "  user: 1, # :user => 1\n",
    "  two: 2,\n",
    "}\n",
    "\n",
    "map[:element] === map.element\n",
    "\n",
    "# # Patter Matching with Maps\n",
    "\n",
    "%{ red: value } = colors\n",
    "# matches the value of this map to value of red, as it comes from map colors\n",
    "%{ color: {r,g,b} } = colors\n",
    "\n",
    "# _ -> any match\n",
    "\n",
    "# Nested Map\n",
    "\n",
    "person = %{\n",
    "  name: \"SKL\",\n",
    "  gender: \"Do Not Assume\",\n",
    "  address: %{\n",
    "    city: \"Daejeon\",\n",
    "    country: \"South Korea\",\n",
    "  }\n",
    "}\n",
    "\n",
    "# Utility function for updating the map\n",
    "\n",
    "put_in(map_name, map_key, new_value)\n",
    "\n",
    "car = %{ manufacturer: \"Tesla\", model_year: \"2033\", color: %{body: \"black\", trim: \"red\"} }\n",
    "\n",
    "\n",
    "# Struct vs Map\n",
    "\n",
    "# Struct {\n",
    "#   Predeclared,\n",
    "#   Predefined keys with default values,\n",
    "#   keys have to be atoms\n",
    "# }\n",
    "\n",
    "# Pattern Match Struct\n",
    "\n",
    "%Struct_Name{param} = Same_Struct_Type # Will Match\n",
    "%Struct_NAme{param} = %{map} # Will not\n",
    "\n"
   ]
  }
 ],
 "metadata": {
  "kernelspec": {
   "display_name": "Python 3",
   "language": "python",
   "name": "python3"
  },
  "language_info": {
   "codemirror_mode": {
    "name": "ipython",
    "version": 3
   },
   "file_extension": ".py",
   "mimetype": "text/x-python",
   "name": "python",
   "nbconvert_exporter": "python",
   "pygments_lexer": "ipython3",
   "version": "3.6.4"
  }
 },
 "nbformat": 4,
 "nbformat_minor": 2
}
