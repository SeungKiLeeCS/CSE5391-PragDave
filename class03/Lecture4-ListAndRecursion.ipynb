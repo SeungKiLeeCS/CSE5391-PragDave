{
 "cells": [
  {
   "cell_type": "markdown",
   "metadata": {},
   "source": [
    "# Lecture 4 - List and Recursion\n"
   ]
  },
  {
   "cell_type": "markdown",
   "metadata": {},
   "source": [
    "## List\n",
    "\n",
    "->Empty list or Value Followed by Truth\n",
    "\n",
    "For recursion, you look at base case -> that is the empty list\n",
    "\n",
    "```\n",
    "[] -> base case, empty list\n",
    "[h|t] -> head, and the rest\n",
    "```"
   ]
  },
  {
   "cell_type": "markdown",
   "metadata": {},
   "source": [
    "## List vs Array\n",
    "\n",
    "Lists have more memory overhead, but in copying it does not require extra copy\n",
    "\n",
    "|Characteristic|List|Array|\n",
    "|:-|:-|:-|\n",
    "|Access Pattern|Sequential|Random|\n",
    "|Access Algo|Recursive|Iterative|\n",
    "|Size|Intrinsic|Extromsic|\n",
    "\n",
    "For array, metadata(externally) has to define the size. For list it is the number of cells"
   ]
  },
  {
   "cell_type": "markdown",
   "metadata": {},
   "source": [
    "## Algorithms in List\n",
    "\n",
    "empty list = [] will be the basecase\n",
    "\n",
    "Always look at base case, and recursive step -> like induction\n",
    "Look for ways to remove repetition"
   ]
  },
  {
   "cell_type": "markdown",
   "metadata": {},
   "source": [
    "## Error Handling\n"
   ]
  },
  {
   "cell_type": "markdown",
   "metadata": {},
   "source": [
    "## Map & Reduce\n",
    "\n",
    "Reduce : Getting different shape\n",
    "\n",
    "Map : Getting same shape"
   ]
  }
 ],
 "metadata": {
  "kernelspec": {
   "display_name": "Python 3",
   "language": "python",
   "name": "python3"
  },
  "language_info": {
   "codemirror_mode": {
    "name": "ipython",
    "version": 3
   },
   "file_extension": ".py",
   "mimetype": "text/x-python",
   "name": "python",
   "nbconvert_exporter": "python",
   "pygments_lexer": "ipython3",
   "version": "3.6.4"
  }
 },
 "nbformat": 4,
 "nbformat_minor": 2
}
